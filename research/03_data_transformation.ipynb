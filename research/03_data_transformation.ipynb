{
 "cells": [
  {
   "cell_type": "code",
   "execution_count": 1,
   "metadata": {},
   "outputs": [],
   "source": [
    "import os\n",
    "os.chdir(\"../\")\n",
    "import pandas as pd\n"
   ]
  },
  {
   "cell_type": "code",
   "execution_count": 2,
   "metadata": {},
   "outputs": [],
   "source": [
    "from dataclasses import dataclass\n",
    "from pathlib import Path\n",
    "\n",
    "\n",
    "@dataclass(frozen=True)\n",
    "class DataTransformationConfig:\n",
    "    root_dir: Path\n",
    "    data_path: Path"
   ]
  },
  {
   "cell_type": "code",
   "execution_count": 3,
   "metadata": {},
   "outputs": [],
   "source": [
    "from HeartDisease.constants import *\n",
    "from HeartDisease.utils.common import read_yaml, create_directories"
   ]
  },
  {
   "cell_type": "code",
   "execution_count": 4,
   "metadata": {},
   "outputs": [],
   "source": [
    "class ConfigurationManager:\n",
    "    def __init__(\n",
    "        self,\n",
    "        config_filepath = CONFIG_FILE_PATH,\n",
    "        params_filepath = PARAMS_FILE_PATH,\n",
    "        schema_filepath = SCHEMA_FILE_PATH):\n",
    "\n",
    "        self.config = read_yaml(config_filepath)\n",
    "        self.params = read_yaml(params_filepath)\n",
    "        self.schema = read_yaml(schema_filepath)\n",
    "\n",
    "        create_directories([self.config.artifacts_root])\n",
    "\n",
    "\n",
    "    \n",
    "    def get_data_transformation_config(self) -> DataTransformationConfig:\n",
    "        config = self.config.data_transformation\n",
    "\n",
    "        create_directories([config.root_dir])\n",
    "\n",
    "        data_transformation_config = DataTransformationConfig(\n",
    "            root_dir=config.root_dir,\n",
    "            data_path=config.data_path,\n",
    "        )\n",
    "\n",
    "        return data_transformation_config"
   ]
  },
  {
   "cell_type": "code",
   "execution_count": 5,
   "metadata": {},
   "outputs": [],
   "source": [
    "import os\n",
    "from HeartDisease import logger\n",
    "from sklearn.model_selection import train_test_split\n",
    "import pandas as pd"
   ]
  },
  {
   "cell_type": "code",
   "execution_count": 6,
   "metadata": {},
   "outputs": [],
   "source": [
    "class DataTransformation:\n",
    "    def __init__(self, config: DataTransformationConfig):\n",
    "        self.config = config\n",
    "\n",
    "\n",
    "    def train_test_spliting(self):\n",
    "        data = pd.read_csv(self.config.data_path)\n",
    "\n",
    "        # Split the data into training and test sets. (0.75, 0.25) split.\n",
    "        train, test = train_test_split(data)\n",
    "\n",
    "        train.to_csv(os.path.join(self.config.root_dir, \"train.csv\"),index = False)\n",
    "        test.to_csv(os.path.join(self.config.root_dir, \"test.csv\"),index = False)\n",
    "\n",
    "        logger.info(\"Splited data into training and test sets\")\n",
    "        logger.info(train.shape)\n",
    "        logger.info(test.shape)\n",
    "\n",
    "        print(train.shape)\n",
    "        print(test.shape)\n",
    "        "
   ]
  },
  {
   "cell_type": "code",
   "execution_count": 7,
   "metadata": {},
   "outputs": [
    {
     "name": "stdout",
     "output_type": "stream",
     "text": [
      "[2023-11-21 09:43:04,777: INFO: common: yaml file: config\\config.yaml loaded successfully]\n",
      "[2023-11-21 09:43:04,777: INFO: common: yaml file: params.yaml loaded successfully]\n",
      "[2023-11-21 09:43:04,780: INFO: common: yaml file: schema.yaml loaded successfully]\n",
      "[2023-11-21 09:43:04,780: INFO: common: created directory at: artifacts]\n",
      "[2023-11-21 09:43:04,786: INFO: common: created directory at: artifacts/data_transformation]\n",
      "[2023-11-21 09:43:04,813: INFO: 741865018: Splited data into training and test sets]\n",
      "[2023-11-21 09:43:04,813: INFO: 741865018: (1199, 12)]\n",
      "[2023-11-21 09:43:04,816: INFO: 741865018: (400, 12)]\n",
      "(1199, 12)\n",
      "(400, 12)\n"
     ]
    }
   ],
   "source": [
    "try:\n",
    "    config = ConfigurationManager()\n",
    "    data_transformation_config = config.get_data_transformation_config()\n",
    "    data_transformation = DataTransformation(config=data_transformation_config)\n",
    "    data_transformation.train_test_spliting()\n",
    "except Exception as e:\n",
    "    raise e"
   ]
  },
  {
   "cell_type": "code",
   "execution_count": 4,
   "metadata": {},
   "outputs": [],
   "source": [
    "test = pd.read_csv('artifacts/data_transformation/test.csv')"
   ]
  },
  {
   "cell_type": "code",
   "execution_count": 6,
   "metadata": {},
   "outputs": [
    {
     "data": {
      "text/html": [
       "<div>\n",
       "<style scoped>\n",
       "    .dataframe tbody tr th:only-of-type {\n",
       "        vertical-align: middle;\n",
       "    }\n",
       "\n",
       "    .dataframe tbody tr th {\n",
       "        vertical-align: top;\n",
       "    }\n",
       "\n",
       "    .dataframe thead th {\n",
       "        text-align: right;\n",
       "    }\n",
       "</style>\n",
       "<table border=\"1\" class=\"dataframe\">\n",
       "  <thead>\n",
       "    <tr style=\"text-align: right;\">\n",
       "      <th></th>\n",
       "      <th>HeartDisease</th>\n",
       "      <th>BMI</th>\n",
       "      <th>Smoking</th>\n",
       "      <th>AlcoholDrinking</th>\n",
       "      <th>Stroke</th>\n",
       "      <th>PhysicalHealth</th>\n",
       "      <th>MentalHealth</th>\n",
       "      <th>DiffWalking</th>\n",
       "      <th>Sex</th>\n",
       "      <th>AgeCategory</th>\n",
       "      <th>Race</th>\n",
       "      <th>Diabetic</th>\n",
       "      <th>PhysicalActivity</th>\n",
       "      <th>GenHealth</th>\n",
       "      <th>SleepTime</th>\n",
       "      <th>Asthma</th>\n",
       "      <th>KidneyDisease</th>\n",
       "      <th>SkinCancer</th>\n",
       "    </tr>\n",
       "  </thead>\n",
       "  <tbody>\n",
       "    <tr>\n",
       "      <th>0</th>\n",
       "      <td>0</td>\n",
       "      <td>23.44</td>\n",
       "      <td>0.060469</td>\n",
       "      <td>0.088185</td>\n",
       "      <td>0.074638</td>\n",
       "      <td>10.0</td>\n",
       "      <td>20.0</td>\n",
       "      <td>0.225722</td>\n",
       "      <td>0.066507</td>\n",
       "      <td>0.227609</td>\n",
       "      <td>0.091848</td>\n",
       "      <td>0.065306</td>\n",
       "      <td>0.137116</td>\n",
       "      <td>0.102523</td>\n",
       "      <td>6.0</td>\n",
       "      <td>0.081118</td>\n",
       "      <td>0.077655</td>\n",
       "      <td>0.077082</td>\n",
       "    </tr>\n",
       "    <tr>\n",
       "      <th>1</th>\n",
       "      <td>0</td>\n",
       "      <td>32.49</td>\n",
       "      <td>0.060469</td>\n",
       "      <td>0.088185</td>\n",
       "      <td>0.074638</td>\n",
       "      <td>0.0</td>\n",
       "      <td>4.0</td>\n",
       "      <td>0.063047</td>\n",
       "      <td>0.106702</td>\n",
       "      <td>0.023013</td>\n",
       "      <td>0.091848</td>\n",
       "      <td>0.065306</td>\n",
       "      <td>0.070789</td>\n",
       "      <td>0.022644</td>\n",
       "      <td>8.0</td>\n",
       "      <td>0.081118</td>\n",
       "      <td>0.077655</td>\n",
       "      <td>0.077082</td>\n",
       "    </tr>\n",
       "    <tr>\n",
       "      <th>2</th>\n",
       "      <td>0</td>\n",
       "      <td>21.93</td>\n",
       "      <td>0.060469</td>\n",
       "      <td>0.088185</td>\n",
       "      <td>0.074638</td>\n",
       "      <td>0.0</td>\n",
       "      <td>0.0</td>\n",
       "      <td>0.063047</td>\n",
       "      <td>0.106702</td>\n",
       "      <td>0.098706</td>\n",
       "      <td>0.091848</td>\n",
       "      <td>0.065306</td>\n",
       "      <td>0.070789</td>\n",
       "      <td>0.022644</td>\n",
       "      <td>7.0</td>\n",
       "      <td>0.081118</td>\n",
       "      <td>0.077655</td>\n",
       "      <td>0.077082</td>\n",
       "    </tr>\n",
       "    <tr>\n",
       "      <th>3</th>\n",
       "      <td>0</td>\n",
       "      <td>26.58</td>\n",
       "      <td>0.060469</td>\n",
       "      <td>0.088185</td>\n",
       "      <td>0.074638</td>\n",
       "      <td>0.0</td>\n",
       "      <td>2.0</td>\n",
       "      <td>0.063047</td>\n",
       "      <td>0.106702</td>\n",
       "      <td>0.033436</td>\n",
       "      <td>0.091848</td>\n",
       "      <td>0.065306</td>\n",
       "      <td>0.070789</td>\n",
       "      <td>0.047440</td>\n",
       "      <td>7.0</td>\n",
       "      <td>0.081118</td>\n",
       "      <td>0.077655</td>\n",
       "      <td>0.077082</td>\n",
       "    </tr>\n",
       "    <tr>\n",
       "      <th>4</th>\n",
       "      <td>0</td>\n",
       "      <td>19.02</td>\n",
       "      <td>0.121428</td>\n",
       "      <td>0.088185</td>\n",
       "      <td>0.074638</td>\n",
       "      <td>2.0</td>\n",
       "      <td>2.0</td>\n",
       "      <td>0.063047</td>\n",
       "      <td>0.066507</td>\n",
       "      <td>0.227609</td>\n",
       "      <td>0.091848</td>\n",
       "      <td>0.065306</td>\n",
       "      <td>0.070789</td>\n",
       "      <td>0.102523</td>\n",
       "      <td>6.0</td>\n",
       "      <td>0.081118</td>\n",
       "      <td>0.077655</td>\n",
       "      <td>0.077082</td>\n",
       "    </tr>\n",
       "  </tbody>\n",
       "</table>\n",
       "</div>"
      ],
      "text/plain": [
       "   HeartDisease    BMI   Smoking  AlcoholDrinking    Stroke  PhysicalHealth  \\\n",
       "0             0  23.44  0.060469         0.088185  0.074638            10.0   \n",
       "1             0  32.49  0.060469         0.088185  0.074638             0.0   \n",
       "2             0  21.93  0.060469         0.088185  0.074638             0.0   \n",
       "3             0  26.58  0.060469         0.088185  0.074638             0.0   \n",
       "4             0  19.02  0.121428         0.088185  0.074638             2.0   \n",
       "\n",
       "   MentalHealth  DiffWalking       Sex  AgeCategory      Race  Diabetic  \\\n",
       "0          20.0     0.225722  0.066507     0.227609  0.091848  0.065306   \n",
       "1           4.0     0.063047  0.106702     0.023013  0.091848  0.065306   \n",
       "2           0.0     0.063047  0.106702     0.098706  0.091848  0.065306   \n",
       "3           2.0     0.063047  0.106702     0.033436  0.091848  0.065306   \n",
       "4           2.0     0.063047  0.066507     0.227609  0.091848  0.065306   \n",
       "\n",
       "   PhysicalActivity  GenHealth  SleepTime    Asthma  KidneyDisease  SkinCancer  \n",
       "0          0.137116   0.102523        6.0  0.081118       0.077655    0.077082  \n",
       "1          0.070789   0.022644        8.0  0.081118       0.077655    0.077082  \n",
       "2          0.070789   0.022644        7.0  0.081118       0.077655    0.077082  \n",
       "3          0.070789   0.047440        7.0  0.081118       0.077655    0.077082  \n",
       "4          0.070789   0.102523        6.0  0.081118       0.077655    0.077082  "
      ]
     },
     "execution_count": 6,
     "metadata": {},
     "output_type": "execute_result"
    }
   ],
   "source": [
    "test.head()"
   ]
  },
  {
   "cell_type": "code",
   "execution_count": 7,
   "metadata": {},
   "outputs": [],
   "source": [
    "catcols = list(test.select_dtypes(exclude='number').columns)"
   ]
  },
  {
   "cell_type": "code",
   "execution_count": 25,
   "metadata": {},
   "outputs": [],
   "source": [
    "cols = ['BMI','Smoking','AlcoholDrinking','Stroke','PhysicalHealth','MentalHealth','DiffWalking','Sex','AgeCategory','Race','Diabetic','PhysicalActivity','GenHealth','SleepTime','Asthma','KidneyDisease','SkinCancer']\n",
    "catcols = ['Smoking','AlcoholDrinking','Stroke','DiffWalking','Sex','AgeCategory','Race','Diabetic','PhysicalActivity','GenHealth','Asthma','KidneyDisease','SkinCancer']"
   ]
  },
  {
   "cell_type": "code",
   "execution_count": 34,
   "metadata": {},
   "outputs": [],
   "source": [
    "import numpy as np\n",
    "data = [23.44,'Yes','No','No',4,4,'No','Female','40-44','White','No','Yes','Good','7','Yes','No','No']\n",
    "data = np.array(data).reshape(1, 17)"
   ]
  },
  {
   "cell_type": "code",
   "execution_count": 35,
   "metadata": {},
   "outputs": [],
   "source": [
    "data = pd.DataFrame(data,columns=cols)"
   ]
  },
  {
   "cell_type": "code",
   "execution_count": 40,
   "metadata": {},
   "outputs": [],
   "source": [
    "import pickle\n",
    "\n",
    "# file = open('artifacts/data_transformation/encoder.obj','rb')\n",
    "#encoder = pickle.load(Path('artifacts/data_transformation/encoder.obj'))\n",
    "data[catcols] = encoder.transform(data[catcols])\n",
    "# file.close()\n",
    "\n",
    "\n",
    "\n"
   ]
  },
  {
   "cell_type": "code",
   "execution_count": 36,
   "metadata": {},
   "outputs": [],
   "source": [
    "import joblib\n",
    "\n",
    "\n",
    "model = joblib.load(Path('artifacts/model_trainer/model.joblib'))"
   ]
  },
  {
   "cell_type": "code",
   "execution_count": 63,
   "metadata": {},
   "outputs": [],
   "source": [
    "from torch import Tensor\n",
    "import torch\n",
    "\n",
    "#data = torch.tensor(data.values.astype(np.float32))\n",
    "prediction = model(data)\n",
    "prediction = prediction.detach().numpy()\n",
    "# prediction[0][0]"
   ]
  },
  {
   "cell_type": "code",
   "execution_count": 68,
   "metadata": {},
   "outputs": [
    {
     "data": {
      "text/plain": [
       "'No'"
      ]
     },
     "execution_count": 68,
     "metadata": {},
     "output_type": "execute_result"
    }
   ],
   "source": [
    "'Yes' if prediction[0][0]>0.5 else 'No'"
   ]
  },
  {
   "cell_type": "code",
   "execution_count": null,
   "metadata": {},
   "outputs": [],
   "source": []
  }
 ],
 "metadata": {
  "kernelspec": {
   "display_name": "mlproject_310",
   "language": "python",
   "name": "python3"
  },
  "language_info": {
   "codemirror_mode": {
    "name": "ipython",
    "version": 3
   },
   "file_extension": ".py",
   "mimetype": "text/x-python",
   "name": "python",
   "nbconvert_exporter": "python",
   "pygments_lexer": "ipython3",
   "version": "3.8.18"
  }
 },
 "nbformat": 4,
 "nbformat_minor": 2
}
